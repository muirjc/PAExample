{
  "nbformat": 4,
  "nbformat_minor": 0,
  "metadata": {
    "colab": {
      "provenance": [],
      "authorship_tag": "ABX9TyMgqacmp5D4J+9dXmZsrQMZ",
      "include_colab_link": true
    },
    "kernelspec": {
      "name": "python3",
      "display_name": "Python 3"
    },
    "language_info": {
      "name": "python"
    }
  },
  "cells": [
    {
      "cell_type": "markdown",
      "metadata": {
        "id": "view-in-github",
        "colab_type": "text"
      },
      "source": [
        "<a href=\"https://colab.research.google.com/github/muirjc/PAExample/blob/main/MilvusLiteBookExample.ipynb\" target=\"_parent\"><img src=\"https://colab.research.google.com/assets/colab-badge.svg\" alt=\"Open In Colab\"/></a>"
      ]
    },
    {
      "cell_type": "code",
      "execution_count": 1,
      "metadata": {
        "colab": {
          "base_uri": "https://localhost:8080/"
        },
        "id": "OBrhsBMT9Sd6",
        "outputId": "c71b7e42-4a95-4b88-ee29-2443999095a1"
      },
      "outputs": [
        {
          "output_type": "stream",
          "name": "stdout",
          "text": [
            "Requirement already satisfied: milvus in /usr/local/lib/python3.10/dist-packages (2.2.11)\n",
            "Requirement already satisfied: milvus[client] in /usr/local/lib/python3.10/dist-packages (2.2.11)\n",
            "Requirement already satisfied: pymilvus<2.3.0,>=2.2.0 in /usr/local/lib/python3.10/dist-packages (from milvus[client]) (2.2.13)\n",
            "Requirement already satisfied: grpcio<=1.56.0,>=1.49.1 in /usr/local/lib/python3.10/dist-packages (from pymilvus<2.3.0,>=2.2.0->milvus[client]) (1.56.0)\n",
            "Requirement already satisfied: protobuf>=3.20.0 in /usr/local/lib/python3.10/dist-packages (from pymilvus<2.3.0,>=2.2.0->milvus[client]) (3.20.3)\n",
            "Requirement already satisfied: environs<=9.5.0 in /usr/local/lib/python3.10/dist-packages (from pymilvus<2.3.0,>=2.2.0->milvus[client]) (9.5.0)\n",
            "Requirement already satisfied: ujson>=2.0.0 in /usr/local/lib/python3.10/dist-packages (from pymilvus<2.3.0,>=2.2.0->milvus[client]) (5.8.0)\n",
            "Requirement already satisfied: pandas>=1.2.4 in /usr/local/lib/python3.10/dist-packages (from pymilvus<2.3.0,>=2.2.0->milvus[client]) (1.5.3)\n",
            "Requirement already satisfied: marshmallow>=3.0.0 in /usr/local/lib/python3.10/dist-packages (from environs<=9.5.0->pymilvus<2.3.0,>=2.2.0->milvus[client]) (3.19.0)\n",
            "Requirement already satisfied: python-dotenv in /usr/local/lib/python3.10/dist-packages (from environs<=9.5.0->pymilvus<2.3.0,>=2.2.0->milvus[client]) (1.0.0)\n",
            "Requirement already satisfied: python-dateutil>=2.8.1 in /usr/local/lib/python3.10/dist-packages (from pandas>=1.2.4->pymilvus<2.3.0,>=2.2.0->milvus[client]) (2.8.2)\n",
            "Requirement already satisfied: pytz>=2020.1 in /usr/local/lib/python3.10/dist-packages (from pandas>=1.2.4->pymilvus<2.3.0,>=2.2.0->milvus[client]) (2022.7.1)\n",
            "Requirement already satisfied: numpy>=1.21.0 in /usr/local/lib/python3.10/dist-packages (from pandas>=1.2.4->pymilvus<2.3.0,>=2.2.0->milvus[client]) (1.22.4)\n",
            "Requirement already satisfied: packaging>=17.0 in /usr/local/lib/python3.10/dist-packages (from marshmallow>=3.0.0->environs<=9.5.0->pymilvus<2.3.0,>=2.2.0->milvus[client]) (23.1)\n",
            "Requirement already satisfied: six>=1.5 in /usr/local/lib/python3.10/dist-packages (from python-dateutil>=2.8.1->pandas>=1.2.4->pymilvus<2.3.0,>=2.2.0->milvus[client]) (1.16.0)\n"
          ]
        }
      ],
      "source": [
        "# install milvus with [client] extras by pip\n",
        "!python3 -m pip install milvus\n",
        "!python3 -m pip install milvus[client]"
      ]
    },
    {
      "cell_type": "code",
      "source": [
        "from milvus import default_server\n",
        "from pymilvus import (\n",
        "    connections,\n",
        "    utility,\n",
        "    FieldSchema,\n",
        "    CollectionSchema,\n",
        "    DataType,\n",
        "    Collection,\n",
        ")\n",
        "\n",
        "default_server.cleanup\n",
        "default_server.start()\n",
        "print(\"port: \", default_server.listen_port)\n",
        "\n",
        "connections.connect(host='localhost', port=default_server.listen_port)\n",
        "print(utility.get_server_version())"
      ],
      "metadata": {
        "colab": {
          "base_uri": "https://localhost:8080/"
        },
        "id": "WFP7Q0zf9Utn",
        "outputId": "5b420ede-a28b-4c58-d4a1-0e8a46592ddd"
      },
      "execution_count": 2,
      "outputs": [
        {
          "output_type": "stream",
          "name": "stderr",
          "text": [
            "WARNING:pymilvus.decorators:\u001b[93m[__internal_register] retry:4, cost: 0.27s, reason: <_InactiveRpcError: StatusCode.UNAVAILABLE, internal: Milvus Proxy is not ready yet. please wait>\u001b[0m\n"
          ]
        },
        {
          "output_type": "stream",
          "name": "stdout",
          "text": [
            "\n",
            "\n",
            "    __  _________ _   ____  ______\n",
            "   /  |/  /  _/ /| | / / / / / __/\n",
            "  / /|_/ // // /_| |/ / /_/ /\\ \\\n",
            " /_/  /_/___/____/___/\\____/___/ {Lite}\n",
            "\n",
            " Welcome to use Milvus!\n",
            "\n",
            " Version:   v2.2.11-lite\n",
            " Process:   35300\n",
            " Started:   2023-07-11 21:31:45\n",
            " Config:    /root/.milvus.io/milvus-server/2.2.11/configs/milvus.yaml\n",
            " Logs:      /root/.milvus.io/milvus-server/2.2.11/logs\n",
            "\n",
            " Ctrl+C to exit ...\n",
            "port:  19530\n"
          ]
        },
        {
          "output_type": "stream",
          "name": "stderr",
          "text": [
            "WARNING:pymilvus.decorators:\u001b[93m[__internal_register] retry:5, cost: 0.81s, reason: <_InactiveRpcError: StatusCode.UNAVAILABLE, internal: Milvus Proxy is not ready yet. please wait>\u001b[0m\n",
            "WARNING:pymilvus.decorators:\u001b[93m[__internal_register] retry:6, cost: 2.43s, reason: <_InactiveRpcError: StatusCode.UNAVAILABLE, internal: Milvus Proxy is not ready yet. please wait>\u001b[0m\n"
          ]
        },
        {
          "output_type": "stream",
          "name": "stdout",
          "text": [
            "v2.2.11-lite\n"
          ]
        }
      ]
    },
    {
      "cell_type": "code",
      "source": [
        "book_id = FieldSchema(name=\"book_id\", dtype=DataType.INT64, is_primary=True,)\n",
        "book_name = FieldSchema(name=\"book_name\", dtype=DataType.VARCHAR, max_length=200,)\n",
        "word_count = FieldSchema(name=\"word_count\", dtype=DataType.INT64,)\n",
        "book_intro = FieldSchema(name=\"book_intro\", dtype=DataType.FLOAT_VECTOR, dim=2)\n",
        "\n",
        "schema = CollectionSchema(\n",
        "  fields=[book_id, book_name, word_count, book_intro],\n",
        "  description=\"Test book search\",\n",
        "  enable_dynamic_field=True\n",
        ")\n",
        "\n",
        "collection_name = \"book\"\n",
        "\n",
        "collection = Collection(name=collection_name, schema=schema)"
      ],
      "metadata": {
        "id": "5IsN1ZZeloON"
      },
      "execution_count": 3,
      "outputs": []
    },
    {
      "cell_type": "code",
      "source": [
        "import random\n",
        "data = [\n",
        "  [i for i in range(2000)],\n",
        "  [str(i) for i in range(2000)],\n",
        "  [i for i in range(10000, 12000)],\n",
        "  [[random.random() for _ in range(2)] for _ in range(2000)]\n",
        "]\n",
        "\n",
        "## Once your collection is enabled with dynamic schema,\n",
        "## you can add non-existing field values.\n",
        "data.append([str(\"dy\"*i) for i in range(2000)])\n",
        "\n",
        "book_id = data[0]\n",
        "book_name = data[1]\n",
        "word_count = data[2]\n",
        "book_intro = data[3]\n",
        "\n",
        "data = []\n",
        "data.append(book_id)\n",
        "data.append(book_name)\n",
        "data.append(word_count)\n",
        "data.append(book_intro)"
      ],
      "metadata": {
        "id": "gfis4o-Mlx56"
      },
      "execution_count": 4,
      "outputs": []
    },
    {
      "cell_type": "code",
      "source": [
        "mr = collection.insert(data)"
      ],
      "metadata": {
        "id": "_KlZrvG0l5M0"
      },
      "execution_count": 5,
      "outputs": []
    },
    {
      "cell_type": "code",
      "source": [
        "index_params = {\n",
        "  \"metric_type\":\"L2\",\n",
        "  \"index_type\":\"IVF_FLAT\",\n",
        "  \"params\":{\"nlist\":1024}\n",
        "}\n",
        "\n",
        "collection.create_index(\n",
        "  field_name=\"book_intro\",\n",
        "  index_params=index_params\n",
        ")"
      ],
      "metadata": {
        "colab": {
          "base_uri": "https://localhost:8080/"
        },
        "id": "93AFbZdB2TxO",
        "outputId": "a4e2cd44-caad-4de9-82a8-5bf954ecd553"
      },
      "execution_count": 6,
      "outputs": [
        {
          "output_type": "execute_result",
          "data": {
            "text/plain": [
              "Status(code=0, message=)"
            ]
          },
          "metadata": {},
          "execution_count": 6
        }
      ]
    },
    {
      "cell_type": "code",
      "source": [
        "utility.wait_for_index_building_complete(collection_name)"
      ],
      "metadata": {
        "colab": {
          "base_uri": "https://localhost:8080/"
        },
        "id": "5gNz-hqS2YWm",
        "outputId": "fe86db5d-5954-45f6-df2f-d05ae1090c4c"
      },
      "execution_count": 7,
      "outputs": [
        {
          "output_type": "execute_result",
          "data": {
            "text/plain": [
              "True"
            ]
          },
          "metadata": {},
          "execution_count": 7
        }
      ]
    },
    {
      "cell_type": "code",
      "source": [
        "collection.create_index(\n",
        "  field_name=\"book_name\",\n",
        "  index_name=\"scalar_index\",\n",
        ")"
      ],
      "metadata": {
        "colab": {
          "base_uri": "https://localhost:8080/"
        },
        "id": "UCaX_wqG1qS7",
        "outputId": "8eef4f00-f560-4d6f-eed8-d6c29df3e132"
      },
      "execution_count": 8,
      "outputs": [
        {
          "output_type": "execute_result",
          "data": {
            "text/plain": [
              "Status(code=0, message=)"
            ]
          },
          "metadata": {},
          "execution_count": 8
        }
      ]
    },
    {
      "cell_type": "code",
      "source": [
        "collection.load()"
      ],
      "metadata": {
        "id": "UtGaTpYR12qn"
      },
      "execution_count": 9,
      "outputs": []
    },
    {
      "cell_type": "code",
      "source": [
        "utility.load_state(\"book\")"
      ],
      "metadata": {
        "colab": {
          "base_uri": "https://localhost:8080/"
        },
        "id": "e3aJm08f0sdv",
        "outputId": "cfef8fbc-f2fa-4f04-e7bc-e4a0622f1618"
      },
      "execution_count": 10,
      "outputs": [
        {
          "output_type": "execute_result",
          "data": {
            "text/plain": [
              "<LoadState: Loaded>"
            ]
          },
          "metadata": {},
          "execution_count": 10
        }
      ]
    },
    {
      "cell_type": "code",
      "source": [
        "utility.loading_progress(\"book\")"
      ],
      "metadata": {
        "colab": {
          "base_uri": "https://localhost:8080/"
        },
        "id": "gAhTJJ9s0sTQ",
        "outputId": "760c6340-26c3-4b6a-9e5e-70eea912e091"
      },
      "execution_count": 11,
      "outputs": [
        {
          "output_type": "execute_result",
          "data": {
            "text/plain": [
              "{'loading_progress': '100%'}"
            ]
          },
          "metadata": {},
          "execution_count": 11
        }
      ]
    },
    {
      "cell_type": "code",
      "source": [
        "res = collection.query(\n",
        "  expr = \"book_id in [2,4,6,8]\",\n",
        "  offset = 0,\n",
        "  limit = 10,\n",
        "  output_fields = [\"book_id\", \"book_intro\"],\n",
        "  consistency_level=\"Strong\"\n",
        ")\n",
        "\n",
        "print(res)"
      ],
      "metadata": {
        "colab": {
          "base_uri": "https://localhost:8080/"
        },
        "id": "RAZWImFj0JS8",
        "outputId": "ce268378-da71-4db7-ef62-136d6954a885"
      },
      "execution_count": 12,
      "outputs": [
        {
          "output_type": "stream",
          "name": "stdout",
          "text": [
            "[{'book_id': 2, 'book_intro': [0.045682855, 0.41438448]}, {'book_id': 4, 'book_intro': [0.24060236, 0.9916207]}, {'book_id': 6, 'book_intro': [0.9197221, 0.3926468]}, {'book_id': 8, 'book_intro': [0.30012918, 0.7561632]}]\n"
          ]
        }
      ]
    }
  ]
}