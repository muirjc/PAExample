{
  "nbformat": 4,
  "nbformat_minor": 0,
  "metadata": {
    "colab": {
      "provenance": [],
      "authorship_tag": "ABX9TyPMHzKmYh6fJmGGdDU/R7xC",
      "include_colab_link": true
    },
    "kernelspec": {
      "name": "python3",
      "display_name": "Python 3"
    },
    "language_info": {
      "name": "python"
    }
  },
  "cells": [
    {
      "cell_type": "markdown",
      "metadata": {
        "id": "view-in-github",
        "colab_type": "text"
      },
      "source": [
        "<a href=\"https://colab.research.google.com/github/muirjc/PAExample/blob/main/MilvusLite.ipynb\" target=\"_parent\"><img src=\"https://colab.research.google.com/assets/colab-badge.svg\" alt=\"Open In Colab\"/></a>"
      ]
    },
    {
      "cell_type": "code",
      "execution_count": 1,
      "metadata": {
        "colab": {
          "base_uri": "https://localhost:8080/"
        },
        "id": "OBrhsBMT9Sd6",
        "outputId": "bbbaab5b-bb85-4d0c-91c1-69a40dc031f8"
      },
      "outputs": [
        {
          "output_type": "stream",
          "name": "stdout",
          "text": [
            "Collecting milvus[client]\n",
            "  Downloading milvus-2.2.11-py3-none-manylinux2014_x86_64.whl (51.7 MB)\n",
            "\u001b[2K     \u001b[90m━━━━━━━━━━━━━━━━━━━━━━━━━━━━━━━━━━━━━━━━\u001b[0m \u001b[32m51.7/51.7 MB\u001b[0m \u001b[31m13.3 MB/s\u001b[0m eta \u001b[36m0:00:00\u001b[0m\n",
            "\u001b[?25hCollecting pymilvus<2.3.0,>=2.2.0 (from milvus[client])\n",
            "  Downloading pymilvus-2.2.13-py3-none-any.whl (146 kB)\n",
            "\u001b[2K     \u001b[90m━━━━━━━━━━━━━━━━━━━━━━━━━━━━━━━━━━━━━━\u001b[0m \u001b[32m146.1/146.1 kB\u001b[0m \u001b[31m11.4 MB/s\u001b[0m eta \u001b[36m0:00:00\u001b[0m\n",
            "\u001b[?25hRequirement already satisfied: grpcio<=1.56.0,>=1.49.1 in /usr/local/lib/python3.10/dist-packages (from pymilvus<2.3.0,>=2.2.0->milvus[client]) (1.56.0)\n",
            "Requirement already satisfied: protobuf>=3.20.0 in /usr/local/lib/python3.10/dist-packages (from pymilvus<2.3.0,>=2.2.0->milvus[client]) (3.20.3)\n",
            "Collecting environs<=9.5.0 (from pymilvus<2.3.0,>=2.2.0->milvus[client])\n",
            "  Downloading environs-9.5.0-py2.py3-none-any.whl (12 kB)\n",
            "Collecting ujson>=2.0.0 (from pymilvus<2.3.0,>=2.2.0->milvus[client])\n",
            "  Downloading ujson-5.8.0-cp310-cp310-manylinux_2_17_x86_64.manylinux2014_x86_64.whl (53 kB)\n",
            "\u001b[2K     \u001b[90m━━━━━━━━━━━━━━━━━━━━━━━━━━━━━━━━━━━━━━━━\u001b[0m \u001b[32m53.9/53.9 kB\u001b[0m \u001b[31m4.3 MB/s\u001b[0m eta \u001b[36m0:00:00\u001b[0m\n",
            "\u001b[?25hRequirement already satisfied: pandas>=1.2.4 in /usr/local/lib/python3.10/dist-packages (from pymilvus<2.3.0,>=2.2.0->milvus[client]) (1.5.3)\n",
            "Collecting marshmallow>=3.0.0 (from environs<=9.5.0->pymilvus<2.3.0,>=2.2.0->milvus[client])\n",
            "  Downloading marshmallow-3.19.0-py3-none-any.whl (49 kB)\n",
            "\u001b[2K     \u001b[90m━━━━━━━━━━━━━━━━━━━━━━━━━━━━━━━━━━━━━━━━\u001b[0m \u001b[32m49.1/49.1 kB\u001b[0m \u001b[31m3.5 MB/s\u001b[0m eta \u001b[36m0:00:00\u001b[0m\n",
            "\u001b[?25hCollecting python-dotenv (from environs<=9.5.0->pymilvus<2.3.0,>=2.2.0->milvus[client])\n",
            "  Downloading python_dotenv-1.0.0-py3-none-any.whl (19 kB)\n",
            "Requirement already satisfied: python-dateutil>=2.8.1 in /usr/local/lib/python3.10/dist-packages (from pandas>=1.2.4->pymilvus<2.3.0,>=2.2.0->milvus[client]) (2.8.2)\n",
            "Requirement already satisfied: pytz>=2020.1 in /usr/local/lib/python3.10/dist-packages (from pandas>=1.2.4->pymilvus<2.3.0,>=2.2.0->milvus[client]) (2022.7.1)\n",
            "Requirement already satisfied: numpy>=1.21.0 in /usr/local/lib/python3.10/dist-packages (from pandas>=1.2.4->pymilvus<2.3.0,>=2.2.0->milvus[client]) (1.22.4)\n",
            "Requirement already satisfied: packaging>=17.0 in /usr/local/lib/python3.10/dist-packages (from marshmallow>=3.0.0->environs<=9.5.0->pymilvus<2.3.0,>=2.2.0->milvus[client]) (23.1)\n",
            "Requirement already satisfied: six>=1.5 in /usr/local/lib/python3.10/dist-packages (from python-dateutil>=2.8.1->pandas>=1.2.4->pymilvus<2.3.0,>=2.2.0->milvus[client]) (1.16.0)\n",
            "Installing collected packages: ujson, python-dotenv, milvus, marshmallow, environs, pymilvus\n",
            "Successfully installed environs-9.5.0 marshmallow-3.19.0 milvus-2.2.11 pymilvus-2.2.13 python-dotenv-1.0.0 ujson-5.8.0\n"
          ]
        }
      ],
      "source": [
        "# install milvus with [client] extras by pip\n",
        "!python3 -m pip install \"milvus[client]\""
      ]
    },
    {
      "cell_type": "code",
      "source": [
        "from milvus import default_server\n",
        "from pymilvus import connections, utility\n",
        "\n",
        "with default_server:\n",
        "    connections.connect(host='localhost', port=default_server.listen_port)\n",
        "    print(utility.get_server_version())"
      ],
      "metadata": {
        "colab": {
          "base_uri": "https://localhost:8080/"
        },
        "id": "WFP7Q0zf9Utn",
        "outputId": "345cc5a8-135d-44c3-e3c5-6412394bf15a"
      },
      "execution_count": 2,
      "outputs": [
        {
          "output_type": "stream",
          "name": "stdout",
          "text": [
            "\n",
            "\n",
            "    __  _________ _   ____  ______\n",
            "   /  |/  /  _/ /| | / / / / / __/\n",
            "  / /|_/ // // /_| |/ / /_/ /\\ \\\n",
            " /_/  /_/___/____/___/\\____/___/ {Lite}\n",
            "\n",
            " Welcome to use Milvus!\n",
            "\n",
            " Version:   v2.2.11-lite\n",
            " Process:   745\n",
            " Started:   2023-07-11 17:18:05\n",
            " Config:    /root/.milvus.io/milvus-server/2.2.11/configs/milvus.yaml\n",
            " Logs:      /root/.milvus.io/milvus-server/2.2.11/logs\n",
            "\n",
            " Ctrl+C to exit ...\n"
          ]
        },
        {
          "output_type": "stream",
          "name": "stderr",
          "text": [
            "WARNING:pymilvus.decorators:\u001b[93m[__internal_register] retry:4, cost: 0.27s, reason: <_InactiveRpcError: StatusCode.UNAVAILABLE, internal: Milvus Proxy is not ready yet. please wait>\u001b[0m\n"
          ]
        },
        {
          "output_type": "stream",
          "name": "stdout",
          "text": [
            "v2.2.11-lite\n"
          ]
        }
      ]
    }
  ]
}