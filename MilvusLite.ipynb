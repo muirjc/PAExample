{
  "nbformat": 4,
  "nbformat_minor": 0,
  "metadata": {
    "colab": {
      "provenance": [],
      "authorship_tag": "ABX9TyMT7V8JZP2InRC2GtcudByK",
      "include_colab_link": true
    },
    "kernelspec": {
      "name": "python3",
      "display_name": "Python 3"
    },
    "language_info": {
      "name": "python"
    }
  },
  "cells": [
    {
      "cell_type": "markdown",
      "metadata": {
        "id": "view-in-github",
        "colab_type": "text"
      },
      "source": [
        "<a href=\"https://colab.research.google.com/github/muirjc/PAExample/blob/main/MilvusLite.ipynb\" target=\"_parent\"><img src=\"https://colab.research.google.com/assets/colab-badge.svg\" alt=\"Open In Colab\"/></a>"
      ]
    },
    {
      "cell_type": "code",
      "execution_count": null,
      "metadata": {
        "id": "OBrhsBMT9Sd6"
      },
      "outputs": [],
      "source": [
        "# install milvus with [client] extras by pip\n",
        "!python3 -m pip install milvus\n",
        "!python3 -m pip install milvus[client]"
      ]
    },
    {
      "cell_type": "code",
      "source": [
        "from milvus import default_server\n",
        "from pymilvus import (\n",
        "    connections,\n",
        "    utility,\n",
        "    FieldSchema,\n",
        "    CollectionSchema,\n",
        "    DataType,\n",
        "    Collection,\n",
        ")\n",
        "\n",
        "default_server.cleanup\n",
        "default_server.start()\n",
        "print(\"port: \", default_server.listen_port)\n",
        "\n",
        "connections.connect(host='localhost', port=default_server.listen_port)\n",
        "print(utility.get_server_version())"
      ],
      "metadata": {
        "id": "WFP7Q0zf9Utn"
      },
      "execution_count": null,
      "outputs": []
    },
    {
      "cell_type": "code",
      "source": [
        "book_id = FieldSchema(name=\"book_id\", dtype=DataType.INT64, is_primary=True,)\n",
        "book_name = FieldSchema(name=\"book_name\", dtype=DataType.VARCHAR, max_length=200,)\n",
        "word_count = FieldSchema(name=\"word_count\", dtype=DataType.INT64,)\n",
        "book_intro = FieldSchema(name=\"book_intro\", dtype=DataType.FLOAT_VECTOR, dim=2)\n",
        "\n",
        "schema = CollectionSchema(\n",
        "  fields=[book_id, book_name, word_count, book_intro],\n",
        "  description=\"Test book search\",\n",
        "  enable_dynamic_field=True\n",
        ")\n",
        "\n",
        "collection_name = \"book\"\n",
        "\n",
        "collection = Collection(name=collection_name, schema=schema)"
      ],
      "metadata": {
        "id": "5IsN1ZZeloON"
      },
      "execution_count": 3,
      "outputs": []
    },
    {
      "cell_type": "code",
      "source": [
        "import random\n",
        "data = [\n",
        "  [i for i in range(2000)],\n",
        "  [str(i) for i in range(2000)],\n",
        "  [i for i in range(10000, 12000)],\n",
        "  [[random.random() for _ in range(2)] for _ in range(2000)]\n",
        "]\n",
        "\n",
        "## Once your collection is enabled with dynamic schema,\n",
        "## you can add non-existing field values.\n",
        "# >> original example code.  insert was unhappy << data.append([str(\"dy\"*i) for i in range(2000)])\n",
        "\n",
        "book_id = data[0]\n",
        "book_name = data[1]\n",
        "word_count = data[2]\n",
        "book_intro = data[3]\n",
        "\n",
        "data = []\n",
        "data.append(book_id)\n",
        "data.append(book_name)\n",
        "data.append(word_count)\n",
        "data.append(book_intro)"
      ],
      "metadata": {
        "id": "gfis4o-Mlx56"
      },
      "execution_count": 4,
      "outputs": []
    },
    {
      "cell_type": "code",
      "source": [
        "mr = collection.insert(data)"
      ],
      "metadata": {
        "id": "_KlZrvG0l5M0"
      },
      "execution_count": 5,
      "outputs": []
    },
    {
      "cell_type": "code",
      "source": [
        "index_params = {\n",
        "  \"metric_type\":\"L2\",\n",
        "  \"index_type\":\"IVF_FLAT\",\n",
        "  \"params\":{\"nlist\":1024}\n",
        "}\n",
        "\n",
        "collection.create_index(\n",
        "  field_name=\"book_intro\",\n",
        "  index_params=index_params\n",
        ")"
      ],
      "metadata": {
        "colab": {
          "base_uri": "https://localhost:8080/"
        },
        "id": "93AFbZdB2TxO",
        "outputId": "c71a6071-2677-4802-c76d-28beabf9812a"
      },
      "execution_count": 6,
      "outputs": [
        {
          "output_type": "execute_result",
          "data": {
            "text/plain": [
              "Status(code=0, message=)"
            ]
          },
          "metadata": {},
          "execution_count": 6
        }
      ]
    },
    {
      "cell_type": "code",
      "source": [
        "utility.wait_for_index_building_complete(collection_name)"
      ],
      "metadata": {
        "colab": {
          "base_uri": "https://localhost:8080/"
        },
        "id": "5gNz-hqS2YWm",
        "outputId": "0fc59c34-125b-4d23-a9e2-9bdd26feff31"
      },
      "execution_count": 7,
      "outputs": [
        {
          "output_type": "execute_result",
          "data": {
            "text/plain": [
              "True"
            ]
          },
          "metadata": {},
          "execution_count": 7
        }
      ]
    },
    {
      "cell_type": "code",
      "source": [
        "collection.create_index(\n",
        "  field_name=\"book_name\",\n",
        "  index_name=\"scalar_index\",\n",
        ")"
      ],
      "metadata": {
        "colab": {
          "base_uri": "https://localhost:8080/"
        },
        "id": "UCaX_wqG1qS7",
        "outputId": "a0c6eab6-752f-41fa-ee81-8bb2c57a94d1"
      },
      "execution_count": 8,
      "outputs": [
        {
          "output_type": "execute_result",
          "data": {
            "text/plain": [
              "Status(code=0, message=)"
            ]
          },
          "metadata": {},
          "execution_count": 8
        }
      ]
    },
    {
      "cell_type": "code",
      "source": [
        "collection.load()"
      ],
      "metadata": {
        "id": "UtGaTpYR12qn"
      },
      "execution_count": 9,
      "outputs": []
    },
    {
      "cell_type": "code",
      "source": [
        "utility.load_state(\"book\")"
      ],
      "metadata": {
        "colab": {
          "base_uri": "https://localhost:8080/"
        },
        "id": "e3aJm08f0sdv",
        "outputId": "2042f22c-8bcd-4b72-fe4a-c73f44dd5700"
      },
      "execution_count": 10,
      "outputs": [
        {
          "output_type": "execute_result",
          "data": {
            "text/plain": [
              "<LoadState: Loaded>"
            ]
          },
          "metadata": {},
          "execution_count": 10
        }
      ]
    },
    {
      "cell_type": "code",
      "source": [
        "utility.loading_progress(\"book\")"
      ],
      "metadata": {
        "colab": {
          "base_uri": "https://localhost:8080/"
        },
        "id": "gAhTJJ9s0sTQ",
        "outputId": "830a62c5-2db1-41c1-e85c-218d30cd8e72"
      },
      "execution_count": 11,
      "outputs": [
        {
          "output_type": "execute_result",
          "data": {
            "text/plain": [
              "{'loading_progress': '100%'}"
            ]
          },
          "metadata": {},
          "execution_count": 11
        }
      ]
    },
    {
      "cell_type": "code",
      "source": [
        "res = collection.query(\n",
        "  expr = \"book_id in [2,4,6,8]\",\n",
        "  offset = 0,\n",
        "  limit = 10,\n",
        "  output_fields = [\"book_id\", \"book_intro\"],\n",
        "  consistency_level=\"Strong\"\n",
        ")\n",
        "\n",
        "print(res)"
      ],
      "metadata": {
        "colab": {
          "base_uri": "https://localhost:8080/"
        },
        "id": "RAZWImFj0JS8",
        "outputId": "029ee80c-8ced-4837-a65b-b18c1438d8d5"
      },
      "execution_count": 12,
      "outputs": [
        {
          "output_type": "stream",
          "name": "stdout",
          "text": [
            "[{'book_id': 2, 'book_intro': [0.54989207, 0.44169962]}, {'book_id': 4, 'book_intro': [0.14525421, 0.24096085]}, {'book_id': 6, 'book_intro': [0.20456459, 0.79779315]}, {'book_id': 8, 'book_intro': [0.41849786, 0.27924448]}]\n"
          ]
        }
      ]
    },
    {
      "cell_type": "code",
      "source": [
        "search_params = {\"metric_type\": \"L2\", \"params\": {\"nprobe\": 10}, \"offset\": 5}"
      ],
      "metadata": {
        "id": "J-PhKRCjgFFe"
      },
      "execution_count": 14,
      "outputs": []
    },
    {
      "cell_type": "code",
      "source": [
        "results = collection.search(\n",
        "\tdata=[[0.1, 0.2]],\n",
        "\tanns_field=\"book_intro\",\n",
        "\tparam=search_params,\n",
        "\tlimit=10,\n",
        "\texpr=None,\n",
        "\t# set the names of the fields you want to retrieve from the search result.\n",
        "\toutput_fields=['book_name'],\n",
        "\tconsistency_level=\"Strong\"\n",
        ")\n",
        "\n",
        "# get the IDs of all returned hits\n",
        "results[0].ids\n",
        "\n",
        "# get the distances to the query vector from all returned hits\n",
        "results[0].distances\n",
        "\n",
        "# get the value of an output field specified in the search request.\n",
        "hit = results[0][0]\n",
        "hit.entity.get('book_name')"
      ],
      "metadata": {
        "colab": {
          "base_uri": "https://localhost:8080/",
          "height": 35
        },
        "id": "dI6MM1TOf7KM",
        "outputId": "ee25165f-5cba-4623-a80c-4065f6e6b049"
      },
      "execution_count": 16,
      "outputs": [
        {
          "output_type": "execute_result",
          "data": {
            "text/plain": [
              "'796'"
            ],
            "application/vnd.google.colaboratory.intrinsic+json": {
              "type": "string"
            }
          },
          "metadata": {},
          "execution_count": 16
        }
      ]
    }
  ]
}